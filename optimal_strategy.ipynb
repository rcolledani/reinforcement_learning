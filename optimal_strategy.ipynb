{
  "nbformat": 4,
  "nbformat_minor": 0,
  "metadata": {
    "colab": {
      "name": "TP1_2021.ipynb",
      "provenance": [],
      "collapsed_sections": []
    },
    "language_info": {
      "codemirror_mode": {
        "name": "ipython",
        "version": 2
      },
      "file_extension": ".py",
      "mimetype": "text/x-python",
      "name": "python",
      "nbconvert_exporter": "python",
      "pygments_lexer": "ipython2",
      "version": "2.7.15rc1"
    },
    "kernelspec": {
      "display_name": "Python 2",
      "language": "python",
      "name": "python2"
    }
  },
  "cells": [
    {
      "cell_type": "markdown",
      "metadata": {
        "id": "8NxgP4gIN5eF"
      },
      "source": [
        "**Recycling robot example** (from Sutton, page 42)\n",
        "References:\n",
        "  - Gym documentation: https://gym.openai.com/\n",
        "\n",
        "  "
      ]
    },
    {
      "cell_type": "code",
      "metadata": {
        "id": "fQ-0sEtFFcTM"
      },
      "source": [
        "import numpy as np\n",
        "from gym.envs.toy_text import discrete\n",
        "import random\n",
        "import matplotlib.pyplot as plt\n",
        "import time\n",
        "\n"
      ],
      "execution_count": 167,
      "outputs": []
    },
    {
      "cell_type": "code",
      "metadata": {
        "id": "i3dzvy9s6aX3"
      },
      "source": [
        "\n",
        "# TO DO: Explain shortly the gym environment"
      ],
      "execution_count": 168,
      "outputs": []
    },
    {
      "cell_type": "markdown",
      "metadata": {
        "id": "GPaZiYtu6aX6"
      },
      "source": [
        "# Consider the robot model described in Barto and Sutton Example 3.2"
      ]
    },
    {
      "cell_type": "code",
      "metadata": {
        "id": "U96qJdswGBFr"
      },
      "source": [
        "states = [\"high\", \"low\"]\n",
        "actions = [\"wait\", \"search\", \"recharge\"]\n",
        "\n",
        "P = {}\n",
        "\n",
        "P[0] = {}\n",
        "P[1] = {}\n",
        "\n",
        "alpha = 1\n",
        "beta = 1\n",
        "r_wait = 0.5\n",
        "r_search = 2.0\n",
        "\n",
        "# We define a discrete environment with the corresponding transitions\n",
        "def gen_ambient(alpha=alpha, beta=beta, r_wait=r_wait, r_search=r_search):\n",
        "    P[0][0] = [(1.0, 0, r_wait, False)]\n",
        "    P[0][1] = [(alpha, 0, r_search, False),\n",
        "               (1-alpha, 1, r_search, False)]\n",
        "    P[0][2] = [(1,0,0,False)]\n",
        "\n",
        "    P[1][0] = [(1.0, 1, r_wait, False)]\n",
        "    P[1][1] = [(beta, 1, r_search, False), \n",
        "               (1-beta, 0, -3.0, False)]\n",
        "    P[1][2] = [(1.0, 0, 0.0, False)]\n",
        "    env = discrete.DiscreteEnv(2, 3, P, [0.0, 1.0])\n",
        "    return(env)\n",
        "\n",
        "env = gen_ambient()"
      ],
      "execution_count": 169,
      "outputs": []
    },
    {
      "cell_type": "code",
      "metadata": {
        "colab": {
          "base_uri": "https://localhost:8080/"
        },
        "id": "4eYJZZlHS-yJ",
        "outputId": "cef74cb1-7939-42b2-f565-6625cc8c56ae"
      },
      "source": [
        "print(P[0][1])\n",
        "print(env.P)"
      ],
      "execution_count": 170,
      "outputs": [
        {
          "output_type": "stream",
          "text": [
            "[(1, 0, 2.0, False), (0, 1, 2.0, False)]\n",
            "{0: {0: [(1.0, 0, 0.5, False)], 1: [(1, 0, 2.0, False), (0, 1, 2.0, False)], 2: [(1, 0, 0, False)]}, 1: {0: [(1.0, 1, 0.5, False)], 1: [(1, 1, 2.0, False), (0, 0, -3.0, False)], 2: [(1.0, 0, 0.0, False)]}}\n"
          ],
          "name": "stdout"
        }
      ]
    },
    {
      "cell_type": "markdown",
      "metadata": {
        "id": "vvcF7--Z6aX8"
      },
      "source": [
        "# Implement the random strategy for 20 steps"
      ]
    },
    {
      "cell_type": "markdown",
      "metadata": {
        "id": "XoNiKgvOIC3n"
      },
      "source": [
        "Define a random action and see what reward it produces\n"
      ]
    },
    {
      "cell_type": "code",
      "metadata": {
        "id": "CmwRqIM9lO-W"
      },
      "source": [
        "def random_strategy(env):\n",
        "  tps1 = time.clock()\n",
        "  \n",
        "  totalReward = 0\n",
        "  Reward = []\n",
        "  CumuReward =[]\n",
        "  observation = env.reset()\n",
        "  #print('The initial obsevation is :',  observation, 'so we are in the state', states[observation])\n",
        "  for i in range(20):\n",
        "    action = env.action_space.sample() # your agent here (this takes random actions)\n",
        "    observation, reward, done, info = env.step(action)\n",
        "    totalReward += reward\n",
        "    Reward.append(reward)\n",
        "    CumuReward.append(totalReward)\n",
        "    #print('obsevation after step number ', i, 'is :',  observation, 'so we are in the state', states[observation],'The action taken is : ',  actions[action], ' and the reward  is: ', reward)\n",
        "  tps2 = time.clock()\n",
        "  timeConvergence = tps2 - tps1\n",
        "  return (totalReward,timeConvergence, Reward, CumuReward)\n",
        "\n",
        "totalReward , timeConvergence,Reward, CumuReward = random_strategy(env)"
      ],
      "execution_count": 171,
      "outputs": []
    },
    {
      "cell_type": "markdown",
      "metadata": {
        "id": "u9kpyAEk6aYB"
      },
      "source": [
        "# Plot the global reward "
      ]
    },
    {
      "cell_type": "code",
      "metadata": {
        "colab": {
          "base_uri": "https://localhost:8080/",
          "height": 286
        },
        "id": "Xllib7oIo-MG",
        "outputId": "1260b93f-713a-46e6-b2ea-7874e8852b17"
      },
      "source": [
        "X = np.arange(20)\n",
        "plt.figure(1)\n",
        "plt.plot(X,Reward)\n",
        "plt.plot(X,CumuReward)"
      ],
      "execution_count": 172,
      "outputs": [
        {
          "output_type": "execute_result",
          "data": {
            "text/plain": [
              "[<matplotlib.lines.Line2D at 0x7ff2ca9472d0>]"
            ]
          },
          "metadata": {
            "tags": []
          },
          "execution_count": 172
        },
        {
          "output_type": "display_data",
          "data": {
            "image/png": "[encoded data removed]",
            "text/plain": [
              "<Figure size 432x288 with 1 Axes>"
            ]
          },
          "metadata": {
            "tags": [],
            "needs_background": "light"
          }
        }
      ]
    },
    {
      "cell_type": "markdown",
      "metadata": {
        "id": "qC0PJOkV6aYH"
      },
      "source": [
        "# Compute directly the optimal value function for each state\n"
      ]
    },
    {
      "cell_type": "code",
      "metadata": {
        "colab": {
          "base_uri": "https://localhost:8080/"
        },
        "id": "qab5m6QtGVHK",
        "outputId": "5bec38f6-5bd5-4bbb-b3c2-a6ea5479affa"
      },
      "source": [
        "for t in range(20):\n",
        "    L_reward = []      \n",
        "    for action in range(env.nA):\n",
        "        observation, reward, done, info = env.step(action)\n",
        "        L_reward.append(reward)  #The value of each action\n",
        "    best_value = max(L_reward)\n",
        "    best_action = np.argmax(np.asarray(L_reward))   # choose the action which gives the maximum value\n",
        "    print(\"The optimal value for each state is {} and is get by taking the action {}\".format(best_value,best_action))"
      ],
      "execution_count": 173,
      "outputs": [
        {
          "output_type": "stream",
          "text": [
            "The optimal value for each state is 2.0 and is get by taking the action 1\n",
            "The optimal value for each state is 2.0 and is get by taking the action 1\n",
            "The optimal value for each state is 2.0 and is get by taking the action 1\n",
            "The optimal value for each state is 2.0 and is get by taking the action 1\n",
            "The optimal value for each state is 2.0 and is get by taking the action 1\n",
            "The optimal value for each state is 2.0 and is get by taking the action 1\n",
            "The optimal value for each state is 2.0 and is get by taking the action 1\n",
            "The optimal value for each state is 2.0 and is get by taking the action 1\n",
            "The optimal value for each state is 2.0 and is get by taking the action 1\n",
            "The optimal value for each state is 2.0 and is get by taking the action 1\n",
            "The optimal value for each state is 2.0 and is get by taking the action 1\n",
            "The optimal value for each state is 2.0 and is get by taking the action 1\n",
            "The optimal value for each state is 2.0 and is get by taking the action 1\n",
            "The optimal value for each state is 2.0 and is get by taking the action 1\n",
            "The optimal value for each state is 2.0 and is get by taking the action 1\n",
            "The optimal value for each state is 2.0 and is get by taking the action 1\n",
            "The optimal value for each state is 2.0 and is get by taking the action 1\n",
            "The optimal value for each state is 2.0 and is get by taking the action 1\n",
            "The optimal value for each state is 2.0 and is get by taking the action 1\n",
            "The optimal value for each state is 2.0 and is get by taking the action 1\n"
          ],
          "name": "stdout"
        }
      ]
    },
    {
      "cell_type": "markdown",
      "metadata": {
        "id": "ZRz0uMX1LbXz"
      },
      "source": [
        "# Implement Value Iteration"
      ]
    },
    {
      "cell_type": "markdown",
      "metadata": {
        "id": "bVuBLOrWL1ru"
      },
      "source": [
        "  Evaluate the optimal value function given a full description of the environment dynamics\n",
        "  \n",
        "  \n",
        "\n",
        "```\n",
        " Args:\n",
        "\n",
        "        env: OpenAI env. env.P represents the transition probabilities of the environment.\n",
        "            env.P[s][a] is a list of transition tuples (prob, next_state, reward, done).\n",
        "            env.nS is a number of states in the environment. \n",
        "            env.nA is a number of actions in the environment.\n",
        "        theta: We stop evaluation once our value function change is less than theta for all states.\n",
        "        discount_factor: Gamma discount factor.\n",
        "  \n",
        "  Returns:\n",
        "        Vector of length env.nS representing the value function.\n",
        "```\n",
        "\n",
        "\n",
        "  \n",
        "   "
      ]
    },
    {
      "cell_type": "code",
      "metadata": {
        "colab": {
          "base_uri": "https://localhost:8080/"
        },
        "id": "nia1zMpUZw2j",
        "outputId": "ee832bdb-8bd7-40bd-d2f6-1332f0fec009"
      },
      "source": [
        "def get_expected_reward(env,s,a):\n",
        "  reward=0\n",
        "  nb_possible_action = len(env.P[s][a])\n",
        "  for i in range (nb_possible_action):\n",
        "    reward += env.P[s][a][i][0]*env.P[s][a][i][2]\n",
        "  return (reward/nb_possible_action)\n",
        "\n",
        "get_expected_reward(env,0,0)"
      ],
      "execution_count": 174,
      "outputs": [
        {
          "output_type": "execute_result",
          "data": {
            "text/plain": [
              "0.5"
            ]
          },
          "metadata": {
            "tags": []
          },
          "execution_count": 174
        }
      ]
    },
    {
      "cell_type": "code",
      "metadata": {
        "colab": {
          "base_uri": "https://localhost:8080/"
        },
        "id": "e9VxnFu_WkL1",
        "outputId": "bb3b9f62-c5e2-4707-da80-f3e00177cfff"
      },
      "source": [
        "def optimal_value_function (env, theta=0.01, gamma=0.9):\n",
        "  tps1 = time.clock()\n",
        "  V_old = np.zeros(env.nS)\n",
        "  V_new = np.zeros(env.nS)\n",
        "  converge = False\n",
        "  while not converge: \n",
        "    who_converge = 0\n",
        "    V_old = np.copy(V_new)\n",
        "    for s in range(env.nS):\n",
        "      possible_value=[]\n",
        "      for a in range(env.nA):\n",
        "        value_for_a = get_expected_reward(env,s,a) + gamma*sum([ env.P[s][a][k][0]*V_old[env.P[s][a][k][1]] for k in range(len(P[s][a]))])\n",
        "        possible_value.append(value_for_a)\n",
        "      V_new[s]=max(possible_value)\n",
        "      if (abs(V_new[s]-V_old[s])<theta):\n",
        "        who_converge += 1\n",
        "    if (who_converge == env.nS):\n",
        "      converge = True\n",
        "  tps2 = time.clock()\n",
        "  timeConvergence = tps2 - tps1\n",
        "  return (V_new,timeConvergence)\n",
        "\n",
        "\n",
        "optimal_value_function(env, theta = 0.01, gamma = 0.9)\n",
        "      \n"
      ],
      "execution_count": 175,
      "outputs": [
        {
          "output_type": "execute_result",
          "data": {
            "text/plain": [
              "(array([9.91272036, 9.91272036]), 0.0008930000000013649)"
            ]
          },
          "metadata": {
            "tags": []
          },
          "execution_count": 175
        }
      ]
    },
    {
      "cell_type": "markdown",
      "metadata": {
        "id": "KGWxWGNA6aYJ"
      },
      "source": [
        "# Implement policy iteration"
      ]
    },
    {
      "cell_type": "markdown",
      "metadata": {
        "id": "f9o3S2kaKQKX"
      },
      "source": [
        "First a policy evluation\n",
        "\n",
        "```\n",
        "Evaluate a policy given an environment and a full description of the environment's dynamics.\n",
        "    \n",
        "    Args:\n",
        "        policy: [S, A] shaped matrix representing the policy.\n",
        "        env: OpenAI env. env.P represents the transition probabilities of the environment.\n",
        "            env.P[s][a] is a list of transition tuples (prob, next_state, reward, done).\n",
        "            env.nS is a number of states in the environment. \n",
        "            env.nA is a number of actions in the environment.\n",
        "        theta: We stop evaluation once our value function change is less than theta for all states.\n",
        "        discount_factor: Gamma discount factor.\n",
        "    \n",
        "    Returns:\n",
        "        Vector of length env.nS representing the value function.\n",
        "        \n",
        "```\n",
        "\n",
        "Then a policy improvement:\n",
        "\n",
        "\n",
        "```\n",
        " Policy Improvement Algorithm. Iteratively evaluates and improves a policy\n",
        "    until an optimal policy is found.\n",
        "    \n",
        "    Args:\n",
        "        env: The OpenAI envrionment.\n",
        "        policy_eval_fn: Policy Evaluation function that takes 3 arguments:\n",
        "            policy, env, discount_factor.\n",
        "        discount_factor: gamma discount factor.\n",
        "        \n",
        "    Returns:\n",
        "        A tuple (policy, V). \n",
        "        policy is the optimal policy, a matrix of shape [S, A] where each state s\n",
        "        contains a valid probability distribution over actions.\n",
        "        V is the value function for the optimal policy.\n",
        "        \n",
        "```\n",
        "\n",
        "\n",
        "\n"
      ]
    },
    {
      "cell_type": "code",
      "metadata": {
        "colab": {
          "base_uri": "https://localhost:8080/"
        },
        "id": "WvV3BN2YiYGu",
        "outputId": "7a9eb5cf-f862-4c15-accd-730c74c2b66e"
      },
      "source": [
        "def value_policy (policy, env, theta=0.01, gamma=0.9):\n",
        "  V_old = np.zeros(env.nS)\n",
        "  V_new = np.zeros(env.nS)\n",
        "  converge = False\n",
        "  while not converge: \n",
        "    who_converge = 0\n",
        "    V_old = np.copy(V_new)\n",
        "    for s in range(env.nS):\n",
        "      a= np.argmax(policy[s,:])\n",
        "      value_for_a = get_expected_reward(env,s,a) + gamma*sum([ env.P[s][a][k][0]*V_old[env.P[s][a][k][1]] for k in range(len(P[s][a]))])\n",
        "      V_new[s]=value_for_a\n",
        "      if (abs(V_new[s]-V_old[s])<theta):\n",
        "        who_converge += 1\n",
        "    if (who_converge == env.nS):\n",
        "      converge = True\n",
        "  return V_new\n",
        "\n",
        "policy=np.array([[0,1,0],[0,1,0]])\n",
        "\n",
        "value_policy(policy,env, theta = 0.01, gamma = 0.9)\n",
        "      \n"
      ],
      "execution_count": 176,
      "outputs": [
        {
          "output_type": "execute_result",
          "data": {
            "text/plain": [
              "array([9.91272036, 9.91272036])"
            ]
          },
          "metadata": {
            "tags": []
          },
          "execution_count": 176
        }
      ]
    },
    {
      "cell_type": "code",
      "metadata": {
        "colab": {
          "base_uri": "https://localhost:8080/"
        },
        "id": "l1aWCTj_jtdX",
        "outputId": "5b0d6e44-26ee-4224-c1c7-a7d1179d75de"
      },
      "source": [
        "def policy_improvement(env, value_policy=value_policy, gamma=0.9):\n",
        "  tps1 = time.clock()\n",
        "  list_policy=[]\n",
        "  list_value=[]\n",
        "  list_sum_value=[]\n",
        "  for k in range (env.nA**env.nS):\n",
        "    policy = np.zeros([env.nS,env.nA])\n",
        "    for p in range (env.nS):\n",
        "      policy[p][0]=0\n",
        "      #f=max(2*k+p,k)\n",
        "      if (p%2==0):\n",
        "        j=k//env.nA\n",
        "      else:\n",
        "        j=k%env.nA\n",
        "      policy[p][j]=1\n",
        "\n",
        "    values=value_policy(policy,env)\n",
        "\n",
        "    list_policy.append(policy)\n",
        "    list_value.append(values)\n",
        "    list_sum_value.append(np.sum(values))\n",
        "\n",
        "  idx = np.argmax(np.array(list_sum_value))\n",
        "  tps2 = time.clock()\n",
        "  timeConvergence = tps2 - tps1\n",
        "  \n",
        "  return (list_policy[idx], list_value[idx],timeConvergence)\n",
        "\n",
        "  \n",
        "  \n",
        "\n",
        "\n",
        "\n",
        "policy_improvement(env)[0]\n"
      ],
      "execution_count": 177,
      "outputs": [
        {
          "output_type": "execute_result",
          "data": {
            "text/plain": [
              "array([[0., 1., 0.],\n",
              "       [0., 1., 0.]])"
            ]
          },
          "metadata": {
            "tags": []
          },
          "execution_count": 177
        }
      ]
    },
    {
      "cell_type": "markdown",
      "metadata": {
        "id": "brOjUJvE6aYV"
      },
      "source": [
        "# Using the 3 algorithms do the following experiments\n"
      ]
    },
    {
      "cell_type": "code",
      "metadata": {
        "id": "E911dO152K3P"
      },
      "source": [
        "def optimal_strategy(env):\n",
        "  tps1 = time.clock()\n",
        "  totalReward = 0\n",
        "  Reward = []\n",
        "  CumuReward =[]\n",
        "  observation = env.reset()\n",
        "  policy = policy_improvement(env)[0]\n",
        "  #print('The initial obsevation is :',  observation, 'so we are in the state', states[observation])\n",
        "  for i in range(20):\n",
        "    action= np.argmax(policy[observation,:])\n",
        "    #action = env.action_space.sample() # your agent here (this takes random actions)\n",
        "    observation, reward, done, info = env.step(action)\n",
        "    totalReward += reward\n",
        "    Reward.append(reward)\n",
        "    CumuReward.append(totalReward)\n",
        "    #print('obsevation after step number ', i, 'is :',  observation, 'so we are in the state', states[observation],'The action taken is : ',  actions[action], ' and the reward  is: ', reward)\n",
        "  tps2 = time.clock()\n",
        "  timeConvergence = tps2 - tps1\n",
        "  return (totalReward, timeConvergence, Reward, CumuReward)\n"
      ],
      "execution_count": 178,
      "outputs": []
    },
    {
      "cell_type": "code",
      "metadata": {
        "id": "jVKvrm0t6aYV"
      },
      "source": [
        "env = gen_ambient(alpha=1, beta=1, r_search=0.5, r_wait=2)\n",
        "exp1 = gen_ambient(alpha=0.9, beta=0.9, r_search=3, r_wait=2)\n",
        "exp2 = gen_ambient(alpha=0.8, beta=0.5, r_search=3, r_wait=2)\n",
        "exp3 = gen_ambient(alpha=0.5, beta=0.5, r_search=3, r_wait=2)\n",
        "exp4 = gen_ambient(alpha=0.9, beta=0.6, r_search=1, r_wait=0.9)\n",
        "exp5 = gen_ambient(alpha=0.9, beta=0.6, r_search=1, r_wait=0.5)\n"
      ],
      "execution_count": 179,
      "outputs": []
    },
    {
      "cell_type": "markdown",
      "metadata": {
        "id": "IAT_YZq56aYY"
      },
      "source": [
        "# Compare the different strategies with the random one\n",
        "# Compare the different strategies in terms of speed of convergence for the different scenarios\n",
        "# What would you do if alpha and beta are unknown (and you dont know RL)? Try to implement something if you have time.\n"
      ]
    },
    {
      "cell_type": "code",
      "metadata": {
        "colab": {
          "base_uri": "https://localhost:8080/"
        },
        "id": "BfpeI2gx2peI",
        "outputId": "20f3e1e9-140c-4ebf-cfb4-e0162808582b"
      },
      "source": [
        "totalRewardRandom,timeConvergenceRandom = random_strategy(env)[0:2]\n",
        "totalRewardOptimal,timeConvergenceOptimal = optimal_strategy(env)[0:2]\n",
        "\n",
        "print(totalRewardRandom,timeConvergenceRandom)\n",
        "print(totalRewardOptimal,timeConvergenceOptimal)"
      ],
      "execution_count": 180,
      "outputs": [
        {
          "output_type": "stream",
          "text": [
            "(7.5, 0.000408000000000186)\n",
            "(10.0, 0.005973000000000894)\n"
          ],
          "name": "stdout"
        }
      ]
    },
    {
      "cell_type": "code",
      "metadata": {
        "id": "U-xoMvolGC1k",
        "colab": {
          "base_uri": "https://localhost:8080/"
        },
        "outputId": "bbcfca19-4dde-4e01-a81d-0dcf9bb6952e"
      },
      "source": [
        "totalRewardRandom,timeConvergenceRandom = random_strategy(exp1)[0:2]\n",
        "totalRewardOptimal,timeConvergenceOptimal = optimal_strategy(exp1)[0:2]\n",
        "\n",
        "print(totalRewardRandom,timeConvergenceRandom)\n",
        "print(totalRewardOptimal,timeConvergenceOptimal)"
      ],
      "execution_count": 181,
      "outputs": [
        {
          "output_type": "stream",
          "text": [
            "(8.5, 0.0004960000000018283)\n",
            "(10.0, 0.006088999999999345)\n"
          ],
          "name": "stdout"
        }
      ]
    },
    {
      "cell_type": "code",
      "metadata": {
        "colab": {
          "base_uri": "https://localhost:8080/"
        },
        "id": "L_JKpgPxYd8o",
        "outputId": "e1da03db-0793-46e3-8a63-7ef541ddeaa8"
      },
      "source": [
        "totalRewardRandom,timeConvergenceRandom = random_strategy(exp2)[0:2]\n",
        "totalRewardOptimal,timeConvergenceOptimal = optimal_strategy(exp2)[0:2]\n",
        "\n",
        "print(totalRewardRandom,timeConvergenceRandom)\n",
        "print(totalRewardOptimal,timeConvergenceOptimal)"
      ],
      "execution_count": 182,
      "outputs": [
        {
          "output_type": "stream",
          "text": [
            "(8.5, 0.002192999999998335)\n",
            "(10.0, 0.006596000000001823)\n"
          ],
          "name": "stdout"
        }
      ]
    },
    {
      "cell_type": "code",
      "metadata": {
        "colab": {
          "base_uri": "https://localhost:8080/"
        },
        "id": "a9MUvA74Z2ce",
        "outputId": "84c0c996-7180-496e-8e5f-9ffe887c1294"
      },
      "source": [
        "totalRewardRandom,timeConvergenceRandom = random_strategy(exp3)[0:2]\n",
        "totalRewardOptimal,timeConvergenceOptimal = optimal_strategy(exp3)[0:2]\n",
        "\n",
        "print(totalRewardRandom,timeConvergenceRandom)\n",
        "print(totalRewardOptimal,timeConvergenceOptimal)"
      ],
      "execution_count": 183,
      "outputs": [
        {
          "output_type": "stream",
          "text": [
            "(10.0, 0.0010290000000026112)\n",
            "(10.0, 0.0060789999999997235)\n"
          ],
          "name": "stdout"
        }
      ]
    },
    {
      "cell_type": "code",
      "metadata": {
        "colab": {
          "base_uri": "https://localhost:8080/"
        },
        "id": "JAFhB1EkZ2nW",
        "outputId": "e7c98318-2bfc-49c8-cec1-a1dfef7443af"
      },
      "source": [
        "totalRewardRandom,timeConvergenceRandom = random_strategy(exp4)[0:2]\n",
        "totalRewardOptimal,timeConvergenceOptimal = optimal_strategy(exp4)[0:2]\n",
        "\n",
        "print(totalRewardRandom,timeConvergenceRandom)\n",
        "print(totalRewardOptimal,timeConvergenceOptimal)"
      ],
      "execution_count": 184,
      "outputs": [
        {
          "output_type": "stream",
          "text": [
            "(7.5, 0.0011970000000012249)\n",
            "(10.0, 0.005272999999998973)\n"
          ],
          "name": "stdout"
        }
      ]
    },
    {
      "cell_type": "code",
      "metadata": {
        "colab": {
          "base_uri": "https://localhost:8080/"
        },
        "id": "84__mGieZ2ux",
        "outputId": "a6e58836-ffe4-417b-a3bf-4344de939306"
      },
      "source": [
        "totalRewardRandom,timeConvergenceRandom = random_strategy(exp5)[0:2]\n",
        "totalRewardOptimal,timeConvergenceOptimal = optimal_strategy(exp5)[0:2]\n",
        "\n",
        "print(totalRewardRandom,timeConvergenceRandom)\n",
        "print(totalRewardOptimal,timeConvergenceOptimal)"
      ],
      "execution_count": 185,
      "outputs": [
        {
          "output_type": "stream",
          "text": [
            "(10.5, 0.0017149999999972465)\n",
            "(10.0, 0.00629199999999841)\n"
          ],
          "name": "stdout"
        }
      ]
    },
    {
      "cell_type": "markdown",
      "metadata": {
        "id": "w9hn6_767OmX"
      },
      "source": [
        "**Difference of speed of convergence**\n",
        "\n",
        "\n",
        "\n",
        "\n",
        "\n"
      ]
    },
    {
      "cell_type": "code",
      "metadata": {
        "colab": {
          "base_uri": "https://localhost:8080/"
        },
        "id": "JDqmxHER7Sy7",
        "outputId": "62aed454-700d-470b-9ad7-7d83cf613248"
      },
      "source": [
        "#env\n",
        "\n",
        "timeConvergence1 = optimal_value_function(env)[1]\n",
        "timeConvergence2 = policy_improvement(env)[2]\n",
        "\n",
        "print('optimal value function:', timeConvergence1)\n",
        "print('policy improvement:', timeConvergence2)"
      ],
      "execution_count": 186,
      "outputs": [
        {
          "output_type": "stream",
          "text": [
            "('optimal value function:', 0.0019700000000000273)\n",
            "('policy improvement:', 0.004179999999998074)\n"
          ],
          "name": "stdout"
        }
      ]
    },
    {
      "cell_type": "code",
      "metadata": {
        "colab": {
          "base_uri": "https://localhost:8080/"
        },
        "id": "d8TjzOiy78V2",
        "outputId": "5f747741-96c2-4277-cf73-94be96eda16c"
      },
      "source": [
        "#exp1\n",
        "\n",
        "timeConvergence1 = optimal_value_function(exp1)[1]\n",
        "timeConvergence2 = policy_improvement(exp1)[2]\n",
        "\n",
        "print('optimal value function:', timeConvergence1)\n",
        "print('policy improvement:', timeConvergence2)"
      ],
      "execution_count": 187,
      "outputs": [
        {
          "output_type": "stream",
          "text": [
            "('optimal value function:', 0.0028849999999991383)\n",
            "('policy improvement:', 0.004308000000001755)\n"
          ],
          "name": "stdout"
        }
      ]
    },
    {
      "cell_type": "code",
      "metadata": {
        "colab": {
          "base_uri": "https://localhost:8080/"
        },
        "id": "uJ9J_LdM78sm",
        "outputId": "39b1530c-0f97-42e7-fb26-62f3e335f15a"
      },
      "source": [
        "#exp2\n",
        "\n",
        "timeConvergence1 = optimal_value_function(exp2)[1]\n",
        "timeConvergence2 = policy_improvement(exp2)[2]\n",
        "\n",
        "print('optimal value function:', timeConvergence1)\n",
        "print('policy improvement:', timeConvergence2)"
      ],
      "execution_count": 188,
      "outputs": [
        {
          "output_type": "stream",
          "text": [
            "('optimal value function:', 0.004248000000000474)\n",
            "('policy improvement:', 0.006061000000002537)\n"
          ],
          "name": "stdout"
        }
      ]
    },
    {
      "cell_type": "code",
      "metadata": {
        "colab": {
          "base_uri": "https://localhost:8080/"
        },
        "id": "tzKCOUFD78vo",
        "outputId": "e066d1e0-0753-43d5-cf8d-3f0178b6d8f8"
      },
      "source": [
        "#exp3\n",
        "\n",
        "timeConvergence1 = optimal_value_function(exp3)[1]\n",
        "timeConvergence2 = policy_improvement(exp3)[2]\n",
        "\n",
        "print('optimal value function:', timeConvergence1)\n",
        "print('policy improvement:', timeConvergence2)"
      ],
      "execution_count": 189,
      "outputs": [
        {
          "output_type": "stream",
          "text": [
            "('optimal value function:', 0.0013970000000007587)\n",
            "('policy improvement:', 0.004709000000001851)\n"
          ],
          "name": "stdout"
        }
      ]
    },
    {
      "cell_type": "code",
      "metadata": {
        "colab": {
          "base_uri": "https://localhost:8080/"
        },
        "id": "KgREnRNv78yd",
        "outputId": "2c24503e-9c21-4ff7-ff02-be641e7c6d57"
      },
      "source": [
        "#exp4\n",
        "\n",
        "timeConvergence1 = optimal_value_function(exp4)[1]\n",
        "timeConvergence2 = policy_improvement(exp4)[2]\n",
        "\n",
        "print('optimal value function:', timeConvergence1)\n",
        "print('policy improvement:', timeConvergence2)"
      ],
      "execution_count": 190,
      "outputs": [
        {
          "output_type": "stream",
          "text": [
            "('optimal value function:', 0.0022359999999999047)\n",
            "('policy improvement:', 0.00513300000000072)\n"
          ],
          "name": "stdout"
        }
      ]
    },
    {
      "cell_type": "code",
      "metadata": {
        "colab": {
          "base_uri": "https://localhost:8080/"
        },
        "id": "gB-3XBlf7807",
        "outputId": "96ff0662-85d2-4d91-9d31-f538b9165d2a"
      },
      "source": [
        "#exp5\n",
        "\n",
        "timeConvergence1 = optimal_value_function(exp5)[1]\n",
        "timeConvergence2 = policy_improvement(exp5)[2]\n",
        "\n",
        "print('optimal value function:', timeConvergence1)\n",
        "print('policy improvement:', timeConvergence2)"
      ],
      "execution_count": 191,
      "outputs": [
        {
          "output_type": "stream",
          "text": [
            "('optimal value function:', 0.0030420000000006553)\n",
            "('policy improvement:', 0.006017000000003492)\n"
          ],
          "name": "stdout"
        }
      ]
    },
    {
      "cell_type": "markdown",
      "metadata": {
        "id": "j2RiQWO58Wl7"
      },
      "source": [
        "The optimal value method seems to be twice faster than the policy improvement"
      ]
    }
  ]
}